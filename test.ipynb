{
 "cells": [
  {
   "cell_type": "code",
   "execution_count": 1,
   "id": "f439be8c",
   "metadata": {},
   "outputs": [],
   "source": [
    "from torched_puff import puff_model\n",
    "import torch"
   ]
  },
  {
   "cell_type": "markdown",
   "id": "331e1b31",
   "metadata": {},
   "source": [
    "#### Test Case 1: downward wind, two sources and one active - sensors below. Data is noisy-ish, bc i'm eyeballing sensor vals"
   ]
  },
  {
   "cell_type": "code",
   "execution_count": 2,
   "id": "080c68a2",
   "metadata": {},
   "outputs": [],
   "source": [
    "\n",
    "pm = puff_model([[0,5,0],[10,5,0]],[[0,0,0],[10,0,0]], [2,2,2], lambda t : 0, lambda t : -2,[1,1],.1)\n",
    "# pm.return_qp_matrices(torch.tensor([[1,2,3],[4,5,6]]))\n",
    "obs_t = torch.tensor([i+0.0 for i in range(10)])\n",
    "obs = torch.tensor([[2 - 2./(3*i+1),0] for i in range(10)])\n",
    "Q,p,_ = pm.return_qp_matrices_new(obs,obs_t)\n",
    "Q = Q.detach().numpy()\n",
    "p = p.reshape(-1).detach().numpy()\n",
    "G = -1*torch.eye(p.size).detach().numpy()\n",
    "h = torch.zeros(p.size).detach().numpy()\n"
   ]
  },
  {
   "cell_type": "code",
   "execution_count": 3,
   "id": "6c385316",
   "metadata": {},
   "outputs": [
    {
     "name": "stdout",
     "output_type": "stream",
     "text": [
      "     pcost       dcost       gap    pres   dres\n",
      " 0: -4.0334e+01 -4.5510e+01  1e+01  1e+00  8e-01\n",
      " 1: -5.3266e+01 -5.6095e+01  3e+00  0e+00  2e-16\n",
      " 2: -5.3540e+01 -5.3648e+01  1e-01  2e-15  5e-17\n",
      " 3: -5.3577e+01 -5.3589e+01  1e-02  2e-15  1e-17\n",
      " 4: -5.3582e+01 -5.3584e+01  2e-03  2e-15  7e-17\n",
      " 5: -5.3583e+01 -5.3583e+01  3e-04  3e-18  2e-17\n",
      " 6: -5.3583e+01 -5.3583e+01  4e-05  9e-19  6e-19\n",
      "Optimal solution found.\n",
      "[ 1.03e+01]\n",
      "[ 5.94e-03]\n",
      "\n"
     ]
    }
   ],
   "source": [
    "from cvxopt import matrix, solvers\n",
    "Q = matrix(Q.tolist())\n",
    "p = matrix(p.tolist())\n",
    "G = matrix(G.tolist())\n",
    "h = matrix(h.tolist())\n",
    "# Q = 2*matrix([ [2, .5], [.5, 1] ])\n",
    "# p = matrix([1.0, 1.0])\n",
    "# G = matrix([[-1.0,0.0],[0.0,-1.0]])\n",
    "# h = matrix([0.0,0.0])\n",
    "# A = matrix([1.0, 1.0], (1,2))\n",
    "# b = matrix(1.0)\n",
    "# sol=solvers.qp(Q, p, G, h, A, b)\n",
    "sol = solvers.qp(Q,p,G,h)\n",
    "print(sol['x'])\n"
   ]
  },
  {
   "cell_type": "code",
   "execution_count": 4,
   "id": "15e448de",
   "metadata": {},
   "outputs": [
    {
     "name": "stdout",
     "output_type": "stream",
     "text": [
      "tensor([[1, 2, 3],\n",
      "        [4, 5, 6],\n",
      "        [7, 8, 9]])\n"
     ]
    },
    {
     "data": {
      "text/plain": [
       "tensor([[1],\n",
       "        [4],\n",
       "        [7],\n",
       "        [2],\n",
       "        [5],\n",
       "        [8],\n",
       "        [3],\n",
       "        [6],\n",
       "        [9]])"
      ]
     },
     "execution_count": 4,
     "metadata": {},
     "output_type": "execute_result"
    }
   ],
   "source": [
    "x = torch.tensor([[1,2,3],[4,5,6],[7,8,9]])\n",
    "print(x)\n",
    "x.T.reshape(-1,1)"
   ]
  }
 ],
 "metadata": {
  "kernelspec": {
   "display_name": "Python 3",
   "language": "python",
   "name": "python3"
  },
  "language_info": {
   "codemirror_mode": {
    "name": "ipython",
    "version": 3
   },
   "file_extension": ".py",
   "mimetype": "text/x-python",
   "name": "python",
   "nbconvert_exporter": "python",
   "pygments_lexer": "ipython3",
   "version": "3.11.4"
  }
 },
 "nbformat": 4,
 "nbformat_minor": 5
}
