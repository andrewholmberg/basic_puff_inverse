{
 "cells": [
  {
   "cell_type": "code",
   "execution_count": 1,
   "id": "4419f4ba",
   "metadata": {},
   "outputs": [],
   "source": [
    "import torch\n",
    "from scipy.interpolate import CubicSpline\n",
    "from scipy.integrate import solve_ivp\n",
    "import numpy as np\n"
   ]
  },
  {
   "cell_type": "code",
   "execution_count": 2,
   "id": "c67660ba",
   "metadata": {},
   "outputs": [
    {
     "name": "stdout",
     "output_type": "stream",
     "text": [
      "  message: The solver successfully reached the end of the integration interval.\n",
      "  success: True\n",
      "   status: 0\n",
      "        t: [ 0.000e+00  5.000e-01 ...  9.500e+00  1.000e+01]\n",
      "        y: [[ 0.000e+00  5.000e-01 ...  9.500e+00  1.000e+01]]\n",
      "      sol: None\n",
      " t_events: None\n",
      " y_events: None\n",
      "     nfev: 38\n",
      "     njev: 0\n",
      "      nlu: 0\n"
     ]
    }
   ],
   "source": [
    "g = CubicSpline([0,1,2,3,4,5,6,7,8,9,10],[1,1,1,1,1,1,1,1,1,1,1])\n",
    "\n",
    "f = lambda t,y: g(t)\n",
    "\n",
    "print(solve_ivp(f,(0,10),[0],'RK45',np.linspace(0,10,21)))"
   ]
  },
  {
   "cell_type": "code",
   "execution_count": 3,
   "id": "45e1df96",
   "metadata": {},
   "outputs": [],
   "source": [
    "bounds = torch.tensor([(0,0),(200,0),(0,200),(200,200)])\n",
    "source_locations = torch.tensor([[0,0],[30,30]])\n",
    "\n",
    "bounds = bounds.repeat(1,source_locations.shape[0])\n",
    "source_locations = source_locations.reshape(1,bounds.shape[0])\n",
    "min_amp = 2\n",
    "eps=1e-8\n",
    "rshp = torch.abs(bounds-source_locations).reshape(-1,2)\n",
    "rshp[:,0] = rshp[:,0]\n",
    "rshp[:,1] = rshp[:,1]\n",
    "distances = (rshp[:,0]**2 + rshp[:,1]**2)**.5\n",
    "times = distances/min_amp\n",
    "max = torch.max(times)\n"
   ]
  },
  {
   "cell_type": "code",
   "execution_count": 4,
   "id": "38f3aa32",
   "metadata": {},
   "outputs": [
    {
     "data": {
      "text/plain": [
       "tensor([[[1, 2, 3],\n",
       "         [1, 2, 3]],\n",
       "\n",
       "        [[1, 2, 3],\n",
       "         [1, 2, 3]],\n",
       "\n",
       "        [[1, 2, 3],\n",
       "         [1, 2, 3]]])"
      ]
     },
     "execution_count": 4,
     "metadata": {},
     "output_type": "execute_result"
    }
   ],
   "source": [
    "x = torch.tensor([[1],[2],[3]])\n",
    "x.reshape(-1).repeat(3,2,1)"
   ]
  },
  {
   "cell_type": "code",
   "execution_count": 5,
   "id": "2c0d452b",
   "metadata": {},
   "outputs": [
    {
     "name": "stdout",
     "output_type": "stream",
     "text": [
      "tensor([[[ 0.,  2.,  4.,  6.,  8., 10.],\n",
      "         [ 0.,  2.,  4.,  6.,  8., 10.]],\n",
      "\n",
      "        [[ 0.,  2.,  4.,  6.,  8., 10.],\n",
      "         [ 0.,  2.,  4.,  6.,  8., 10.]],\n",
      "\n",
      "        [[ 0.,  2.,  4.,  6.,  8., 10.],\n",
      "         [ 0.,  2.,  4.,  6.,  8., 10.]]])\n"
     ]
    }
   ],
   "source": [
    "torch.tile(x.reshape(-1,1,1),(1,5,10))\n",
    "print(torch.linspace(0,10,6).repeat(3,2,1))"
   ]
  },
  {
   "cell_type": "code",
   "execution_count": 15,
   "id": "1f572251",
   "metadata": {},
   "outputs": [
    {
     "data": {
      "text/plain": [
       "6"
      ]
     },
     "execution_count": 15,
     "metadata": {},
     "output_type": "execute_result"
    }
   ],
   "source": [
    "x.expand((3,2)).nelement()"
   ]
  },
  {
   "cell_type": "code",
   "execution_count": null,
   "id": "3b2953ec",
   "metadata": {},
   "outputs": [
    {
     "name": "stdout",
     "output_type": "stream",
     "text": [
      "80\n",
      "80\n"
     ]
    }
   ],
   "source": [
    "import sys\n",
    "def memory(x):\n",
    "    return sys.getsizeof(x)\n",
    "print(memory(x))\n",
    "print(memory(x.expand((3,2))))\n",
    "print(memory(x.expand((3,2))).reshape(-1,1,1))"
   ]
  }
 ],
 "metadata": {
  "kernelspec": {
   "display_name": "Python 3",
   "language": "python",
   "name": "python3"
  },
  "language_info": {
   "codemirror_mode": {
    "name": "ipython",
    "version": 3
   },
   "file_extension": ".py",
   "mimetype": "text/x-python",
   "name": "python",
   "nbconvert_exporter": "python",
   "pygments_lexer": "ipython3",
   "version": "3.11.4"
  }
 },
 "nbformat": 4,
 "nbformat_minor": 5
}
