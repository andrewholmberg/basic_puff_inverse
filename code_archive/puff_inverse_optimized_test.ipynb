{
 "cells": [
  {
   "cell_type": "code",
   "execution_count": 1,
   "id": "f439be8c",
   "metadata": {},
   "outputs": [],
   "source": [
    "from puff_model_optimized import puff_model\n",
    "import torch\n",
    "import os\n",
    "import pandas as pd\n",
    "import numpy as np\n",
    "from scipy.interpolate import interp1d\n",
    "from scipy.interpolate import CubicSpline \n",
    "from unit_conversion import convert_wind\n",
    "from puff_inverse_model_optimized import puff_inverse_model"
   ]
  },
  {
   "cell_type": "markdown",
   "id": "331e1b31",
   "metadata": {},
   "source": [
    "#### Test Case 1: downward wind, two sources and one active - sensors below. Data is noisy-ish, bc i'm eyeballing sensor vals"
   ]
  },
  {
   "cell_type": "code",
   "execution_count": 2,
   "id": "f4448d85",
   "metadata": {},
   "outputs": [
    {
     "name": "stdout",
     "output_type": "stream",
     "text": [
      "['N', 'E', 'SE', 'S', 'SW', 'W', 'NW', 'NE']\n",
      "hello\n"
     ]
    },
    {
     "name": "stderr",
     "output_type": "stream",
     "text": [
      "C:\\Users\\m10936927\\AppData\\Local\\Temp\\ipykernel_20184\\1211714171.py:14: UserWarning: To copy construct from a tensor, it is recommended to use sourceTensor.clone().detach() or sourceTensor.clone().detach().requires_grad_(True), rather than torch.tensor(sourceTensor).\n",
      "  source_location = torch.tensor(source_points)\n"
     ]
    }
   ],
   "source": [
    "data_dir = f\"{os.getcwd()}/data\"\n",
    "# load in data\n",
    "df_wind_ch4 = pd.read_csv(data_dir + \"/wind_ch4.csv\")\n",
    "\n",
    "df_true_emission = pd.read_csv(data_dir + \"/selected_controll_release.csv\")\n",
    "source_points = torch.tensor(np.load(data_dir + \"/source_points.npy\")) # shape=(n_source, 3)\n",
    "sensor_points = torch.tensor(np.load(data_dir + \"/sensor_points.npy\")) # shape=(n_sensor, 3)\n",
    "#col_points = np.load(data_dir + \"/col_points.npy\")  # shape=(n_col, 3)\n",
    "df_bounds = pd.read_csv(data_dir + \"/bounds.csv\", dtype='float32')\n",
    "df_puff_simulation = pd.read_csv(data_dir + '/df_obs_20220502008_0.csv').fillna(0.)\n",
    "df_puff_simulation = pd.read_csv(data_dir + '/df_sim_puff_20220502008_0.csv').fillna(0.)\n",
    "\n",
    "tfinal = 5*60.\n",
    "source_location = torch.tensor(source_points)\n",
    "\n",
    "ws = df_wind_ch4['wind_speed.m/s'].to_numpy() # shape=(N_t,)\n",
    "wd = df_wind_ch4['wind_direction'].to_numpy() # shape=(N_t,)\n",
    "df_puff_simulation['x'], df_puff_simulation['y'] = convert_wind(ws,wd)\n",
    "\n",
    "\n",
    "wind_function_x = lambda t : torch.tensor(CubicSpline(df_puff_simulation.index*60,df_puff_simulation.x)(t))\n",
    "wind_function_y = lambda t : torch.tensor(CubicSpline(df_puff_simulation.index*60,df_puff_simulation.y)(t))\n",
    "\n",
    "# sensor_names = ['N','W','SW','S','SE','E','NE','C1','NW']\n",
    "sensor_names = ['N','E','SE','S','SW','W','NW','C1','NE']\n",
    "sensor_names = ['N','E','SE','S','SW','W','NW','C1','NE']\n",
    "filter_out = ['C1']\n",
    "df_sensor = pd.DataFrame(sensor_points,columns = ['x','y','z'])\n",
    "df_sensor['name'] = sensor_names\n",
    "df_sensor['filter'] = df_sensor.name.apply(lambda x : int(x in filter_out))\n",
    "sensor_points_filtered = (df_sensor[df_sensor['filter'] != 1][['x','y','z']]).to_numpy()\n",
    "sensor_locations = df_sensor[['x','y','z']].to_numpy()\n",
    "\n",
    "\n",
    "sensor_names  =  list(filter(lambda x : x not in filter_out, sensor_names))\n",
    "print(sensor_names)\n",
    "print('hello')\n",
    "num_sensors = len(sensor_names)\n",
    "\n",
    "\n",
    "\n",
    "sensor_values_fn = dict()\n",
    "for name in sensor_names:\n",
    "    if name in filter_out:\n",
    "        pass\n",
    "    sensor_values_fn[name] = lambda t, f = CubicSpline(df_puff_simulation.index*60,df_puff_simulation[name]) : torch.tensor(f(t))\n",
    "# ch4 = np.transpose(df_wind_ch4.iloc[:, 3:].to_numpy()) # shape=(N_obs, N_t)\n",
    "# sensor_names = df_wind_ch4.columns[3:]\n"
   ]
  },
  {
   "cell_type": "markdown",
   "id": "87969177",
   "metadata": {},
   "source": [
    "#### Create observation data matrix of 100 obs across domain of 45 min\n"
   ]
  },
  {
   "cell_type": "code",
   "execution_count": 3,
   "id": "7a72c73d",
   "metadata": {},
   "outputs": [
    {
     "name": "stderr",
     "output_type": "stream",
     "text": [
      "C:\\Users\\m10936927\\AppData\\Local\\Temp\\ipykernel_20184\\4172523218.py:9: UserWarning: To copy construct from a tensor, it is recommended to use sourceTensor.clone().detach() or sourceTensor.clone().detach().requires_grad_(True), rather than torch.tensor(sourceTensor).\n",
      "  obs[i,j] = torch.tensor(sensor_values_fn[sensor_names[j]](obs_t[i]))\n"
     ]
    }
   ],
   "source": [
    "num_obs = 300\n",
    "tbegin = 0*60\n",
    "tend = 45*60\n",
    "obs_t = torch.linspace(tbegin,tend,num_obs).reshape(-1,1)\n",
    "obs = torch.zeros(num_obs, num_sensors)\n",
    "obs += torch.rand(obs.shape)*0\n",
    "for i in range(num_obs):\n",
    "    for j in range(num_sensors):\n",
    "        obs[i,j] = torch.tensor(sensor_values_fn[sensor_names[j]](obs_t[i]))\n",
    "obs = obs.reshape(-1,1)\n",
    "obs_t = obs_t.repeat(num_sensors,1)"
   ]
  },
  {
   "cell_type": "code",
   "execution_count": 4,
   "id": "080c68a2",
   "metadata": {},
   "outputs": [
    {
     "name": "stdout",
     "output_type": "stream",
     "text": [
      "320\n",
      "tensor([[9.7099e-14],\n",
      "        [1.2517e-12],\n",
      "        [9.6691e+00],\n",
      "        [2.7321e-16],\n",
      "        [1.3842e-15],\n",
      "        [3.9746e-01]])\n",
      "tensor(0.3975)\n"
     ]
    }
   ],
   "source": [
    "\n",
    "pm = puff_model(source_location, sensor_points_filtered, [3, 3, 1], wind_function_x, wind_function_y,[1,1],1,spread=True,t_max=45*60)\n",
    "Q = pm.return_puff_matrix(obs,obs_t)\n",
    "weights = torch.diag(torch.sum(Q,dim=1))\n",
    "pim = puff_inverse_model(pm)\n",
    "x = pim.solve_inverse_problem(obs, obs_t,num_nz = 1, bias_terms = 1, weights = weights)\n",
    "print(x)\n",
    "X,Y,Z = torch.meshgrid(torch.linspace(0,130,50),torch.linspace(0,80,50),torch.tensor([2.4]),indexing='xy')\n",
    "XX = torch.cat([X.reshape(-1,1),Y.reshape(-1,1),Z.reshape(-1,1)],dim=1)\n",
    "# x = pim.solve_inverse_problem_base(obs, obs_t, num_nz = 1, weights = None)\n",
    "t = torch.linspace(0,45*60,200)\n",
    "result = pm.simulate_concentration(XX,t)\n",
    "print(torch.min(result))"
   ]
  },
  {
   "cell_type": "markdown",
   "id": "b3761d39",
   "metadata": {},
   "source": []
  },
  {
   "cell_type": "code",
   "execution_count": 5,
   "id": "5537c937",
   "metadata": {},
   "outputs": [],
   "source": [
    "import matplotlib.pyplot as plt\n",
    "import numpy as np\n",
    "from matplotlib.cm import get_cmap\n",
    "from matplotlib.colors import Normalize\n",
    "\n",
    "\n",
    "# def plot_colored_arrows(wd, ws, origin_x=0, origin_y=0, color_by='index'):\n",
    "#     wd = np.array(wd)\n",
    "#     ws = np.array(ws)\n",
    "#     n = len(wd)\n",
    "#     assert wd.shape == ws.shape, \"Angle and magnitude arrays must match\"\n",
    "\n",
    "#     # Compute vector components\n",
    "#     theta = np.deg2rad(wd)\n",
    "#     u = ws * np.cos(theta)\n",
    "#     v = ws * np.sin(theta)\n",
    "\n",
    "#     # Starting positions\n",
    "#     x0 = np.full_like(u, origin_x)\n",
    "#     y0 = np.full_like(v, origin_y)\n",
    "\n",
    "#     # Values to color by (either index or magnitude)\n",
    "#     if color_by == 'index':\n",
    "#         color_values = np.linspace(0, 1, n)\n",
    "#         label = \"Arrow Index\"\n",
    "#     elif color_by == 'magnitude':\n",
    "#         color_values = (ws - ws.min()) / (ws.max() - ws.min() + 1e-8)\n",
    "#         label = \"Magnitude\"\n",
    "#     else:\n",
    "#         raise ValueError(\"color_by must be 'index' or 'magnitude'\")\n",
    "\n",
    "#     cmap = get_cmap('coolwarm')  # red to blue\n",
    "#     norm = Normalize(vmin=0, vmax=1)\n",
    "\n",
    "#     # Create quiver plot\n",
    "#     fig, ax = plt.subplots(figsize=(8, 8))\n",
    "#     q = ax.quiver(x0, y0, u, v, color_values, cmap=cmap, norm=norm, angles='xy', scale_units='xy', scale=1)\n",
    "\n",
    "#     # Add colorbar\n",
    "#     cbar = fig.colorbar(q, ax=ax)\n",
    "#     cbar.set_label(label)\n",
    "\n",
    "#     ax.set_aspect('equal')\n",
    "#     ax.set_title(\"Colored Arrows with Colorbar\")\n",
    "#     ax.set_xlabel(\"X\")\n",
    "#     ax.set_ylabel(\"Y\")\n",
    "#     ax.grid(True)\n",
    "\n",
    "# plot_colored_arrows(wd, ws)\n",
    "# plt.xlim(-3,3)\n",
    "# plt.ylim(-3,3)"
   ]
  },
  {
   "cell_type": "code",
   "execution_count": 6,
   "id": "c7212081",
   "metadata": {},
   "outputs": [
    {
     "data": {
      "image/png": "[encoded data removed]",
      "text/plain": [
       "<Figure size 640x480 with 1 Axes>"
      ]
     },
     "metadata": {},
     "output_type": "display_data"
    }
   ],
   "source": [
    "fig,ax = plt.subplots()\n",
    "ax.scatter(source_location[:,0],source_location[:,1],color='red')\n",
    "ax.scatter(sensor_points[:,0],sensor_points[:,1],color='blue')\n",
    "\n",
    "labels = df_sensor['name']\n",
    "for i, label in enumerate(labels):\n",
    "    plt.annotate(label, (df_sensor.x[i], df_sensor.y[i]), textcoords=\"offset points\", xytext=(0,5), ha='center')\n",
    "for i in range(len(source_location)):\n",
    "    plt.annotate(str(i+1), (source_location[i,0],source_location[i,1]), textcoords=\"offset points\", xytext=(0,5), ha='center')"
   ]
  },
  {
   "cell_type": "code",
   "execution_count": 7,
   "id": "a3ff47dc",
   "metadata": {},
   "outputs": [
    {
     "name": "stdout",
     "output_type": "stream",
     "text": [
      "tensor(0.7843, dtype=torch.float64)\n"
     ]
    }
   ],
   "source": [
    "print(sensor_values_fn['NW'](16))"
   ]
  },
  {
   "cell_type": "code",
   "execution_count": 8,
   "id": "ab9f2e5e",
   "metadata": {},
   "outputs": [],
   "source": [
    "sensor_values_fn = dict()\n",
    "for name in sensor_names:\n",
    "    sensor_values_fn[name] = interp1d(df_puff_simulation.index*60,df_puff_simulation[name])\n",
    "\n",
    "sensor_values_fn_1 = dict()\n",
    "for name in sensor_names:\n",
    "    sensor_values_fn_1[name] = lambda t, x = sensor_values_fn[name] : torch.tensor(x(t))\n"
   ]
  },
  {
   "cell_type": "code",
   "execution_count": 9,
   "id": "b1eb7560",
   "metadata": {},
   "outputs": [],
   "source": [
    "result = result.reshape(-1,t.shape[0]).T.reshape(-1,1)"
   ]
  },
  {
   "cell_type": "code",
   "execution_count": 10,
   "id": "eeef1ddf",
   "metadata": {},
   "outputs": [
    {
     "name": "stdout",
     "output_type": "stream",
     "text": [
      "tensor(0.3975)\n"
     ]
    },
    {
     "data": {
      "image/png": "[encoded data removed]",
      "text/plain": [
       "<Figure size 600x500 with 2 Axes>"
      ]
     },
     "metadata": {},
     "output_type": "display_data"
    }
   ],
   "source": [
    "import torch\n",
    "import matplotlib.pyplot as plt\n",
    "import numpy as np\n",
    "from scipy.interpolate import griddata\n",
    "print(torch.min(result))\n",
    "# Convert to NumPy\n",
    "x = XX[:, 0].numpy()\n",
    "y = XX[:, 1].numpy()\n",
    "t_step=len(t)-2\n",
    "z = result[XX.shape[0]*t_step:XX.shape[0]*(t_step+1)].squeeze().numpy()\n",
    "\n",
    "# Create grid\n",
    "grid_x, grid_y = np.meshgrid(\n",
    "    np.linspace(x.min(), x.max(), 200),\n",
    "    np.linspace(y.min(), y.max(), 200)\n",
    ")\n",
    "\n",
    "# Interpolate to the grid\n",
    "grid_z = griddata((x, y), z, (grid_x, grid_y), method='cubic')\n",
    "\n",
    "# Plot with contourf\n",
    "plt.figure(figsize=(6, 5))\n",
    "cont = plt.contourf(grid_x, grid_y, grid_z, levels=100, cmap='hot')\n",
    "\n",
    "plt.scatter(source_location[:,0],source_location[:,1],color='red',s=1)\n",
    "plt.scatter(sensor_points[:,0],sensor_points[:,1],color='blue',s=1)\n",
    "\n",
    "labels = df_sensor['name']\n",
    "for i, label in enumerate(labels):\n",
    "    plt.annotate(label, (df_sensor.x[i], df_sensor.y[i]), textcoords=\"offset points\", xytext=(0,5), ha='center')\n",
    "for i in range(len(source_location)):\n",
    "    plt.annotate(str(i+1), (source_location[i,0],source_location[i,1]), textcoords=\"offset points\", xytext=(0,5), ha='center')\n",
    "plt.colorbar(cont, label=\"Heatmap Value\")\n",
    "plt.xlabel(\"X\")\n",
    "plt.ylabel(\"Y\")\n",
    "plt.title(\"2D Heatmap (Contourf)\")\n",
    "plt.axis(\"equal\")\n",
    "plt.show()\n"
   ]
  },
  {
   "cell_type": "code",
   "execution_count": 11,
   "id": "159405c2",
   "metadata": {},
   "outputs": [
    {
     "name": "stderr",
     "output_type": "stream",
     "text": [
      "C:\\Users\\m10936927\\AppData\\Local\\Temp\\ipykernel_20184\\2108569832.py:47: DeprecationWarning: Starting with ImageIO v3 the behavior of this function will switch to that of iio.v3.imread. To keep the current behavior (and make this warning disappear) use `import imageio.v2 as imageio` or call `imageio.v2.imread` directly.\n",
      "  image = imageio.imread(filename)\n"
     ]
    }
   ],
   "source": [
    "import imageio\n",
    "filename = 'output'\n",
    "os.makedirs(\"frames\", exist_ok=True)\n",
    "\n",
    "filenames = []\n",
    "for t_step in range(len(t)):\n",
    "    z = result[XX.shape[0]*t_step : XX.shape[0]*(t_step+1)].squeeze().numpy()\n",
    "\n",
    "    # Create grid\n",
    "    grid_x, grid_y = np.meshgrid(\n",
    "        np.linspace(x.min(), x.max(), 200),\n",
    "        np.linspace(y.min(), y.max(), 200)\n",
    "    )\n",
    "\n",
    "    # Interpolate\n",
    "    grid_z = griddata((x, y), z, (grid_x, grid_y), method='cubic')\n",
    "\n",
    "    # Plot\n",
    "    fig, ax = plt.subplots(figsize=(6, 5))\n",
    "    cont = ax.contourf(grid_x, grid_y, grid_z, levels=100, cmap='hot')\n",
    "\n",
    "    ax.scatter(source_location[:,0], source_location[:,1], color='red', s=1)\n",
    "    ax.scatter(sensor_points[:,0], sensor_points[:,1], color='blue', s=1)\n",
    "\n",
    "    labels = df_sensor['name']\n",
    "    for i, label in enumerate(labels):\n",
    "        ax.annotate(label, (df_sensor.x[i], df_sensor.y[i]), textcoords=\"offset points\", xytext=(0,5), ha='center')\n",
    "\n",
    "    for i in range(len(source_location)):\n",
    "        ax.annotate(str(i+1), (source_location[i,0], source_location[i,1]), textcoords=\"offset points\", xytext=(0,5), ha='center')\n",
    "\n",
    "    fig.colorbar(cont, ax=ax, label=\"Heatmap Value\")\n",
    "    ax.set_xlabel(\"X\")\n",
    "    ax.set_ylabel(\"Y\")\n",
    "    ax.set_title(f\"2D Heatmap at t={t[t_step]:.2f}\")\n",
    "    ax.axis(\"equal\")\n",
    "\n",
    "    # Save frame\n",
    "    filename = f\"frames/frame_{t_step:03d}.png\"\n",
    "    plt.savefig(filename)\n",
    "    filenames.append(filename)\n",
    "    plt.close()\n",
    "\n",
    "# Create GIF\n",
    "with imageio.get_writer('heatmap_animation.gif', mode='I', duration=0.2) as writer:\n",
    "    for filename in filenames:\n",
    "        image = imageio.imread(filename)\n",
    "        writer.append_data(image)\n",
    "\n",
    "# Optionally clean up\n",
    "for filename in filenames:\n",
    "    os.remove(filename)"
   ]
  },
  {
   "cell_type": "code",
   "execution_count": 12,
   "id": "8e9140bd",
   "metadata": {},
   "outputs": [
    {
     "name": "stdout",
     "output_type": "stream",
     "text": [
      "tensor([[ 60.8373,  75.0846,   2.4000],\n",
      "        [122.7558,  31.3516,   2.4000],\n",
      "        [100.8370,   2.2038,   2.4000],\n",
      "        [ 68.3534,   2.0000,   2.4000],\n",
      "        [ 32.2449,   4.9657,   2.4000],\n",
      "        [  2.0000,  39.6021,   2.4000],\n",
      "        [ 29.0070,  75.7901,   2.4000],\n",
      "        [ 93.9395,  76.0533,   2.4000]], dtype=torch.float64)\n"
     ]
    },
    {
     "name": "stderr",
     "output_type": "stream",
     "text": [
      "C:\\Users\\m10936927\\AppData\\Local\\Temp\\ipykernel_20184\\3342196762.py:15: UserWarning: No artists with labels found to put in legend.  Note that artists whose label start with an underscore are ignored when legend() is called with no argument.\n",
      "  plt.legend()\n"
     ]
    },
    {
     "data": {
      "image/png": "[encoded data removed]",
      "text/plain": [
       "<Figure size 640x480 with 9 Axes>"
      ]
     },
     "metadata": {},
     "output_type": "display_data"
    }
   ],
   "source": [
    "fig, ax  = plt.subplots(3,3)\n",
    "i=0\n",
    "performance_result = torch.tensor(sensor_points_filtered)\n",
    "t = torch.linspace(0,45*60,50)\n",
    "num_obs = len(t)\n",
    "result_final = pm.simulate_concentration(performance_result,t)\n",
    "M_torch = pim.Q\n",
    "print(performance_result)\n",
    "for i in range(num_sensors):\n",
    "    ax[i//3,i%3].set_title(sensor_names[i])\n",
    "    tt = obs_t\n",
    "    ax[i//3,i%3].plot(t,(result_final[num_obs*i:(num_obs*(i+1)),:]).view(-1) ,color='red',label='predicted')\n",
    "    ax[i//3,i%3].plot(t,sensor_values_fn[sensor_names[i]](t),color='blue',label='true')\n",
    "    ax[i//3,i%3].set_ylim(0,20)\n",
    "    plt.legend()\n",
    "    "
   ]
  }
 ],
 "metadata": {
  "kernelspec": {
   "display_name": "Python 3",
   "language": "python",
   "name": "python3"
  },
  "language_info": {
   "codemirror_mode": {
    "name": "ipython",
    "version": 3
   },
   "file_extension": ".py",
   "mimetype": "text/x-python",
   "name": "python",
   "nbconvert_exporter": "python",
   "pygments_lexer": "ipython3",
   "version": "3.11.9"
  }
 },
 "nbformat": 4,
 "nbformat_minor": 5
}
