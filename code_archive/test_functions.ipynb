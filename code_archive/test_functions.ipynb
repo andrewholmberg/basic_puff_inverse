{
 "cells": [
  {
   "cell_type": "code",
   "execution_count": null,
   "id": "4419f4ba",
   "metadata": {},
   "outputs": [],
   "source": [
    "import torch\n",
    "from scipy.interpolate import CubicSpline\n",
    "from scipy.integrate import solve_ivp\n",
    "import numpy as np\n",
    "import sys\n"
   ]
  },
  {
   "cell_type": "code",
   "execution_count": 28,
   "id": "7f64b30f",
   "metadata": {},
   "outputs": [
    {
     "name": "stdout",
     "output_type": "stream",
     "text": [
      "8\n",
      "8\n",
      "8\n"
     ]
    }
   ],
   "source": [
    "from torchcubicspline import(natural_cubic_spline_coeffs, \n",
    "                             NaturalCubicSpline)\n",
    "\n",
    "t = torch.tensor([0,1,2,3.,4,5])\n",
    "y = torch.tensor([0,0,0,0.,0,0]).reshape(-1,1)\n",
    "\n",
    "coeffs = natural_cubic_spline_coeffs(t, y)\n",
    "\n",
    "cs = NaturalCubicSpline(coeffs)\n",
    "tt = torch.tensor([0,1,2,3,4,5,0,1])\n",
    "\n",
    "print(tt.storage().size())\n",
    "t = tt.expand(5,-1)\n",
    "print(tt.storage().size())\n",
    "yy = cs.evaluate(tt)\n",
    "print(yy.storage().size())\n"
   ]
  },
  {
   "cell_type": "code",
   "execution_count": null,
   "id": "a60db8ac",
   "metadata": {},
   "outputs": [
    {
     "name": "stdout",
     "output_type": "stream",
     "text": [
      "torch.Size([8, 8])\n",
      "torch.Size([8, 8])\n",
      "64\n"
     ]
    }
   ],
   "source": [
    "x = torch.tensor([1,2,3,4,5,6,7,8])\n",
    "y = torch.tensor([1,2,3,4,5,6,7,8]).reshape(-1,1)\n",
    "\n",
    "x = x.expand(8,-1)\n",
    "y = y.expand(-1,8)\n",
    "print(x.storage().size())\n",
    "print(y.storage().size())\n",
    "print((x+y).storage().size())\n"
   ]
  },
  {
   "cell_type": "code",
   "execution_count": 3,
   "id": "c67660ba",
   "metadata": {},
   "outputs": [
    {
     "name": "stdout",
     "output_type": "stream",
     "text": [
      "  message: The solver successfully reached the end of the integration interval.\n",
      "  success: True\n",
      "   status: 0\n",
      "        t: [ 0.000e+00  5.000e-01 ...  9.500e+00  1.000e+01]\n",
      "        y: [[ 0.000e+00  5.000e-01 ...  9.500e+00  1.000e+01]]\n",
      "      sol: None\n",
      " t_events: None\n",
      " y_events: None\n",
      "     nfev: 38\n",
      "     njev: 0\n",
      "      nlu: 0\n"
     ]
    }
   ],
   "source": [
    "g = CubicSpline([0,1,2,3,4,5,6,7,8,9,10],[1,1,1,1,1,1,1,1,1,1,1])\n",
    "\n",
    "f = lambda t,y: g(t)\n",
    "\n",
    "print(solve_ivp(f,(0,10),[0],'RK45',np.linspace(0,10,21)))"
   ]
  },
  {
   "cell_type": "code",
   "execution_count": 4,
   "id": "45e1df96",
   "metadata": {},
   "outputs": [],
   "source": [
    "bounds = torch.tensor([(0,0),(200,0),(0,200),(200,200)])\n",
    "source_locations = torch.tensor([[0,0],[30,30]])\n",
    "\n",
    "bounds = bounds.repeat(1,source_locations.shape[0])\n",
    "source_locations = source_locations.reshape(1,bounds.shape[0])\n",
    "min_amp = 2\n",
    "eps=1e-8\n",
    "rshp = torch.abs(bounds-source_locations).reshape(-1,2)\n",
    "rshp[:,0] = rshp[:,0]\n",
    "rshp[:,1] = rshp[:,1]\n",
    "distances = (rshp[:,0]**2 + rshp[:,1]**2)**.5\n",
    "times = distances/min_amp\n",
    "max = torch.max(times)"
   ]
  },
  {
   "cell_type": "code",
   "execution_count": 5,
   "id": "38f3aa32",
   "metadata": {},
   "outputs": [
    {
     "data": {
      "text/plain": [
       "tensor([[[1, 2, 3],\n",
       "         [1, 2, 3]],\n",
       "\n",
       "        [[1, 2, 3],\n",
       "         [1, 2, 3]],\n",
       "\n",
       "        [[1, 2, 3],\n",
       "         [1, 2, 3]]])"
      ]
     },
     "execution_count": 5,
     "metadata": {},
     "output_type": "execute_result"
    }
   ],
   "source": [
    "x = torch.tensor([[1],[2],[3]])\n",
    "x.reshape(-1).repeat(3,2,1)"
   ]
  },
  {
   "cell_type": "code",
   "execution_count": 6,
   "id": "2c0d452b",
   "metadata": {},
   "outputs": [
    {
     "name": "stdout",
     "output_type": "stream",
     "text": [
      "tensor([[[ 0.,  2.,  4.,  6.,  8., 10.],\n",
      "         [ 0.,  2.,  4.,  6.,  8., 10.]],\n",
      "\n",
      "        [[ 0.,  2.,  4.,  6.,  8., 10.],\n",
      "         [ 0.,  2.,  4.,  6.,  8., 10.]],\n",
      "\n",
      "        [[ 0.,  2.,  4.,  6.,  8., 10.],\n",
      "         [ 0.,  2.,  4.,  6.,  8., 10.]]])\n"
     ]
    }
   ],
   "source": [
    "torch.tile(x.reshape(-1,1,1),(1,5,10))\n",
    "print(torch.linspace(0,10,6).repeat(3,2,1))"
   ]
  },
  {
   "cell_type": "code",
   "execution_count": 7,
   "id": "1f572251",
   "metadata": {},
   "outputs": [
    {
     "data": {
      "text/plain": [
       "tensor([[1, 1, 1, 1, 1, 1, 1],\n",
       "        [2, 2, 2, 2, 2, 2, 2],\n",
       "        [3, 3, 3, 3, 3, 3, 3]])"
      ]
     },
     "execution_count": 7,
     "metadata": {},
     "output_type": "execute_result"
    }
   ],
   "source": [
    "x.expand((3,2)).nelement()\n",
    "x.expand((3,7))"
   ]
  },
  {
   "cell_type": "code",
   "execution_count": 8,
   "id": "3b2953ec",
   "metadata": {},
   "outputs": [
    {
     "name": "stdout",
     "output_type": "stream",
     "text": [
      "88\n",
      "88\n"
     ]
    }
   ],
   "source": [
    "import sys\n",
    "def memory(x):\n",
    "    return sys.getsizeof(x)\n",
    "\n",
    "torch.tensor([5,4,3,2])\n",
    "print(memory(x))\n",
    "print(memory(x.expand((3,2))))\n"
   ]
  }
 ],
 "metadata": {
  "kernelspec": {
   "display_name": "Python 3",
   "language": "python",
   "name": "python3"
  },
  "language_info": {
   "codemirror_mode": {
    "name": "ipython",
    "version": 3
   },
   "file_extension": ".py",
   "mimetype": "text/x-python",
   "name": "python",
   "nbconvert_exporter": "python",
   "pygments_lexer": "ipython3",
   "version": "3.11.9"
  }
 },
 "nbformat": 4,
 "nbformat_minor": 5
}
