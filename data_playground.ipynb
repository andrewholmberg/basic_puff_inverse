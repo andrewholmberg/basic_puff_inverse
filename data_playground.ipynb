{
 "cells": [
  {
   "cell_type": "code",
   "execution_count": 1,
   "id": "455470d9",
   "metadata": {},
   "outputs": [],
   "source": [
    "import pandas as pd\n",
    "import os"
   ]
  },
  {
   "cell_type": "code",
   "execution_count": 2,
   "id": "33ffa413",
   "metadata": {},
   "outputs": [],
   "source": [
    "data_path = '\\\\'.join(os.getcwd().split('\\\\')[:-1]) + '\\\\data'"
   ]
  },
  {
   "cell_type": "code",
   "execution_count": 3,
   "id": "2690690c",
   "metadata": {},
   "outputs": [],
   "source": [
    "sensor_data = pd.read_csv(f'{data_path}\\\\background_removed_measured_ch4.csv')\n",
    "emissions_data = pd.read_csv(f'{data_path}\\\\emission_data_processed.csv').drop_duplicates()"
   ]
  },
  {
   "cell_type": "markdown",
   "id": "0db4909e",
   "metadata": {},
   "source": [
    "### Prep and pivot emissions data"
   ]
  },
  {
   "cell_type": "code",
   "execution_count": 4,
   "id": "95495538",
   "metadata": {},
   "outputs": [],
   "source": [
    "emissions_data['start_time'] = pd.to_datetime(emissions_data.start_time)\n",
    "emissions_data['end_time'] = pd.to_datetime(emissions_data.end_time)\n",
    "emissions_data['start_time_seconds'] = pd.to_datetime(emissions_data.start_time).map(pd.Timestamp.timestamp)\n",
    "start_time_utc_seconds = emissions_data.start_time_seconds.min()\n",
    "emissions_data.start_time_seconds -= start_time_utc_seconds\n",
    "emissions_data['end_time_seconds'] =   pd.to_datetime(emissions_data.end_time).map(pd.Timestamp.timestamp) - start_time_utc_seconds\n"
   ]
  },
  {
   "cell_type": "code",
   "execution_count": null,
   "id": "265d1b30",
   "metadata": {},
   "outputs": [
    {
     "name": "stdout",
     "output_type": "stream",
     "text": [
      "611\n"
     ]
    },
    {
     "ename": "AttributeError",
     "evalue": "'DataFrame' object has no attribute 'source'",
     "output_type": "error",
     "traceback": [
      "\u001b[1;31m---------------------------------------------------------------------------\u001b[0m",
      "\u001b[1;31mAttributeError\u001b[0m                            Traceback (most recent call last)",
      "\u001b[1;32m~\\AppData\\Local\\Temp\\ipykernel_2520\\3245434953.py\u001b[0m in \u001b[0;36m?\u001b[1;34m()\u001b[0m\n\u001b[0;32m     28\u001b[0m \u001b[0memissions_data\u001b[0m \u001b[1;33m=\u001b[0m \u001b[0memissions_data\u001b[0m\u001b[1;33m.\u001b[0m\u001b[0msort_values\u001b[0m\u001b[1;33m(\u001b[0m\u001b[1;34m'start_time_seconds'\u001b[0m\u001b[1;33m)\u001b[0m\u001b[1;33m\u001b[0m\u001b[1;33m\u001b[0m\u001b[0m\n\u001b[0;32m     29\u001b[0m \u001b[0memissions_data\u001b[0m \u001b[1;33m=\u001b[0m \u001b[0memissions_data\u001b[0m\u001b[1;33m.\u001b[0m\u001b[0mgroupby\u001b[0m\u001b[1;33m(\u001b[0m\u001b[1;33m[\u001b[0m\u001b[1;34m'start_time_seconds'\u001b[0m\u001b[1;33m,\u001b[0m\u001b[1;34m'end_time_seconds'\u001b[0m\u001b[1;33m]\u001b[0m\u001b[1;33m)\u001b[0m\u001b[1;33m.\u001b[0m\u001b[0magg\u001b[0m\u001b[1;33m(\u001b[0m\u001b[0mlist\u001b[0m\u001b[1;33m)\u001b[0m\u001b[1;33m.\u001b[0m\u001b[0mreset_index\u001b[0m\u001b[1;33m(\u001b[0m\u001b[1;33m)\u001b[0m\u001b[1;33m\u001b[0m\u001b[1;33m\u001b[0m\u001b[0m\n\u001b[0;32m     30\u001b[0m \u001b[0memissions_data\u001b[0m \u001b[1;33m=\u001b[0m \u001b[0memissions_data\u001b[0m\u001b[1;33m[\u001b[0m\u001b[1;33m[\u001b[0m\u001b[1;34m'start_time_seconds'\u001b[0m\u001b[1;33m,\u001b[0m\u001b[1;34m'end_time_seconds'\u001b[0m\u001b[1;33m]\u001b[0m\u001b[1;33m]\u001b[0m\u001b[1;33m\u001b[0m\u001b[1;33m\u001b[0m\u001b[0m\n\u001b[0;32m     31\u001b[0m \u001b[0memissions_data\u001b[0m\u001b[1;33m[\u001b[0m\u001b[1;34m'duration'\u001b[0m\u001b[1;33m]\u001b[0m \u001b[1;33m=\u001b[0m \u001b[0memissions_data\u001b[0m\u001b[1;33m.\u001b[0m\u001b[0mend_time_seconds\u001b[0m \u001b[1;33m-\u001b[0m \u001b[0memissions_data\u001b[0m\u001b[1;33m.\u001b[0m\u001b[0mstart_time_seconds\u001b[0m\u001b[1;33m\u001b[0m\u001b[1;33m\u001b[0m\u001b[0m\n\u001b[1;32m---> 32\u001b[1;33m \u001b[0memissions_data\u001b[0m\u001b[1;33m[\u001b[0m\u001b[1;34m'num_active_sources'\u001b[0m\u001b[1;33m]\u001b[0m \u001b[1;33m=\u001b[0m \u001b[0memissions_data\u001b[0m\u001b[1;33m.\u001b[0m\u001b[0msource\u001b[0m\u001b[1;33m.\u001b[0m\u001b[0mapply\u001b[0m\u001b[1;33m(\u001b[0m\u001b[1;32mlambda\u001b[0m \u001b[0mx\u001b[0m \u001b[1;33m:\u001b[0m \u001b[0mlen\u001b[0m\u001b[1;33m(\u001b[0m\u001b[0mx\u001b[0m\u001b[1;33m)\u001b[0m\u001b[1;33m)\u001b[0m\u001b[1;33m\u001b[0m\u001b[1;33m\u001b[0m\u001b[0m\n\u001b[0m\u001b[0;32m     33\u001b[0m \u001b[0mprint\u001b[0m\u001b[1;33m(\u001b[0m\u001b[0memissions_data\u001b[0m\u001b[1;33m[\u001b[0m\u001b[0memissions_data\u001b[0m\u001b[1;33m.\u001b[0m\u001b[0mduration\u001b[0m \u001b[1;33m>\u001b[0m \u001b[1;36m30\u001b[0m\u001b[1;33m*\u001b[0m\u001b[1;36m60\u001b[0m\u001b[1;33m]\u001b[0m\u001b[1;33m)\u001b[0m\u001b[1;33m\u001b[0m\u001b[1;33m\u001b[0m\u001b[0m\n",
      "\u001b[1;32mc:\\Users\\andyh\\AppData\\Local\\Programs\\Python\\Python311\\Lib\\site-packages\\pandas\\core\\generic.py\u001b[0m in \u001b[0;36m?\u001b[1;34m(self, name)\u001b[0m\n\u001b[0;32m   6295\u001b[0m             \u001b[1;32mand\u001b[0m \u001b[0mname\u001b[0m \u001b[1;32mnot\u001b[0m \u001b[1;32min\u001b[0m \u001b[0mself\u001b[0m\u001b[1;33m.\u001b[0m\u001b[0m_accessors\u001b[0m\u001b[1;33m\u001b[0m\u001b[1;33m\u001b[0m\u001b[0m\n\u001b[0;32m   6296\u001b[0m             \u001b[1;32mand\u001b[0m \u001b[0mself\u001b[0m\u001b[1;33m.\u001b[0m\u001b[0m_info_axis\u001b[0m\u001b[1;33m.\u001b[0m\u001b[0m_can_hold_identifiers_and_holds_name\u001b[0m\u001b[1;33m(\u001b[0m\u001b[0mname\u001b[0m\u001b[1;33m)\u001b[0m\u001b[1;33m\u001b[0m\u001b[1;33m\u001b[0m\u001b[0m\n\u001b[0;32m   6297\u001b[0m         ):\n\u001b[0;32m   6298\u001b[0m             \u001b[1;32mreturn\u001b[0m \u001b[0mself\u001b[0m\u001b[1;33m[\u001b[0m\u001b[0mname\u001b[0m\u001b[1;33m]\u001b[0m\u001b[1;33m\u001b[0m\u001b[1;33m\u001b[0m\u001b[0m\n\u001b[1;32m-> 6299\u001b[1;33m         \u001b[1;32mreturn\u001b[0m \u001b[0mobject\u001b[0m\u001b[1;33m.\u001b[0m\u001b[0m__getattribute__\u001b[0m\u001b[1;33m(\u001b[0m\u001b[0mself\u001b[0m\u001b[1;33m,\u001b[0m \u001b[0mname\u001b[0m\u001b[1;33m)\u001b[0m\u001b[1;33m\u001b[0m\u001b[1;33m\u001b[0m\u001b[0m\n\u001b[0m",
      "\u001b[1;31mAttributeError\u001b[0m: 'DataFrame' object has no attribute 'source'"
     ]
    }
   ],
   "source": [
    "# Need (0,2),(2,6), but won't get it.\n",
    "# emissions_data = pd.DataFrame({\"start_time_seconds\": [0,2,2,4,8,10], \"end_time_seconds\" : [6,5,4,6,10,12] })\n",
    "# check next start time value, see if it lies in data point's interval. If so, split\n",
    "while True:\n",
    "    emissions_data = emissions_data.sort_values('start_time_seconds')\n",
    "    emissions_data['shifted_start'] = emissions_data.start_time_seconds.shift(-1).fillna(1e10)\n",
    "    emissions_data['shifted_start'] = emissions_data.groupby('start_time_seconds')['shifted_start'].transform('max')\n",
    "    emissions_data['bool'] =  (emissions_data.shifted_start != emissions_data.start_time_seconds) & (emissions_data.shifted_start < emissions_data.end_time_seconds)\n",
    "    temp1 = emissions_data[emissions_data['bool'] == True].copy()\n",
    "    temp2 = temp1.copy()\n",
    "    temp1['end_time_seconds'] = temp1['shifted_start']\n",
    "    temp2['start_time_seconds'] = temp2['shifted_start']\n",
    "    emissions_data = pd.concat([emissions_data[emissions_data['bool'] == False],temp1,temp2])\n",
    "    if emissions_data['bool'].sum() == 0:\n",
    "        break\n",
    "#GIVEN all start points align, this works for the other side. Make sure different end - times have their respective intervals. ex: (4,6), (4,7) -> (4,6),(4,6),(6,7)\n",
    "emissions_data['window_end'] = emissions_data.groupby('start_time_seconds')['end_time_seconds'].transform('min')\n",
    "while True:\n",
    "    if (emissions_data.window_end - emissions_data.end_time_seconds).sum() == 0:\n",
    "        break\n",
    "    temp = emissions_data[emissions_data.window_end != emissions_data.end_time_seconds].copy()\n",
    "    temp.start_time_seconds = temp.window_end\n",
    "    temp['window_end'] = temp.groupby('start_time_seconds')['end_time_seconds'].transform('min')\n",
    "    emissions_data['end_time_seconds'] = emissions_data.window_end\n",
    "    emissions_data = pd.concat([emissions_data,temp])\n",
    "print(emissions_data.source.isna().sum())\n",
    "\n",
    "emissions_data = emissions_data.sort_values('start_time_seconds')\n",
    "emissions_data = emissions_data.groupby(['start_time_seconds','end_time_seconds']).agg(list).reset_index()\n",
    "emissions_data['duration'] = emissions_data.end_time_seconds - emissions_data.start_time_seconds\n",
    "emissions_data['num_active_sources'] = emissions_data.source.apply(lambda x : len(x))\n",
    "print(emissions_data[emissions_data.duration > 30*60])"
   ]
  },
  {
   "cell_type": "markdown",
   "id": "7a22ac46",
   "metadata": {},
   "source": [
    "### Prep Sensor Data"
   ]
  },
  {
   "cell_type": "code",
   "execution_count": null,
   "id": "6b3c5912",
   "metadata": {},
   "outputs": [],
   "source": [
    "sensor_data['time_stamp'] = pd.to_datetime(sensor_data.time_stamp)\n",
    "sensor_data['time_stamp_seconds'] = pd.to_datetime(sensor_data.time_stamp).map(pd.Timestamp.timestamp)\n",
    "sensor_data.time_stamp_seconds -= start_time_utc_seconds\n",
    "print(sensor_data)\n"
   ]
  },
  {
   "cell_type": "code",
   "execution_count": null,
   "id": "e6c46c54",
   "metadata": {},
   "outputs": [],
   "source": [
    "emissions_data = emissions_data[['start_time_seconds','end_time_seconds','source','emission_rate']]\n",
    "emissions_data.to_csv('hello.csv')\n",
    "# print(emissions_data)"
   ]
  }
 ],
 "metadata": {
  "kernelspec": {
   "display_name": "Python 3",
   "language": "python",
   "name": "python3"
  },
  "language_info": {
   "codemirror_mode": {
    "name": "ipython",
    "version": 3
   },
   "file_extension": ".py",
   "mimetype": "text/x-python",
   "name": "python",
   "nbconvert_exporter": "python",
   "pygments_lexer": "ipython3",
   "version": "3.11.4"
  }
 },
 "nbformat": 4,
 "nbformat_minor": 5
}
