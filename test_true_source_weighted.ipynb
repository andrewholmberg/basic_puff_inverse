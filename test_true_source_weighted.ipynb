{
 "cells": [
  {
   "cell_type": "code",
   "execution_count": 1,
   "id": "f439be8c",
   "metadata": {},
   "outputs": [],
   "source": [
    "from puff_model_v2 import puff_model\n",
    "import torch\n",
    "import os\n",
    "import pandas as pd\n",
    "import numpy as np\n",
    "from scipy.interpolate import interp1d\n",
    "from scipy.interpolate import CubicSpline \n",
    "from unit_conversion import convert_wind\n"
   ]
  },
  {
   "cell_type": "markdown",
   "id": "331e1b31",
   "metadata": {},
   "source": [
    "#### Test Case 1: downward wind, two sources and one active - sensors below. Data is noisy-ish, bc i'm eyeballing sensor vals"
   ]
  },
  {
   "cell_type": "code",
   "execution_count": 2,
   "id": "f4448d85",
   "metadata": {},
   "outputs": [
    {
     "name": "stderr",
     "output_type": "stream",
     "text": [
      "C:\\Users\\andyh\\AppData\\Local\\Temp\\ipykernel_19884\\792668092.py:13: UserWarning: To copy construct from a tensor, it is recommended to use sourceTensor.clone().detach() or sourceTensor.clone().detach().requires_grad_(True), rather than torch.tensor(sourceTensor).\n",
      "  source_location = torch.tensor(source_points)\n"
     ]
    }
   ],
   "source": [
    "data_dir = f\"{os.getcwd()}/data\"\n",
    "# load in data\n",
    "df_wind_ch4 = pd.read_csv(data_dir + \"/wind_ch4.csv\")\n",
    "\n",
    "df_true_emission = pd.read_csv(data_dir + \"/selected_controll_release.csv\")\n",
    "source_points = torch.tensor(np.load(data_dir + \"/source_points.npy\")) # shape=(n_source, 3)\n",
    "sensor_points = torch.tensor(np.load(data_dir + \"/sensor_points.npy\")) # shape=(n_sensor, 3)\n",
    "#col_points = np.load(data_dir + \"/col_points.npy\")  # shape=(n_col, 3)\n",
    "df_bounds = pd.read_csv(data_dir + \"/bounds.csv\", dtype='float32')\n",
    "df_puff_simulation = pd.read_csv(data_dir + '/df_sim_puff_20220502008_0.csv').fillna(0.)\n",
    "\n",
    "tfinal = 5*60.\n",
    "source_location = torch.tensor(source_points)\n",
    "\n",
    "ws = df_wind_ch4['wind_speed.m/s'].to_numpy() # shape=(N_t,)\n",
    "wd = df_wind_ch4['wind_direction'].to_numpy() # shape=(N_t,)\n",
    "df_puff_simulation['x'], df_puff_simulation['y'] = convert_wind(ws,wd)\n",
    "\n",
    "\n",
    "wind_function_x = lambda t : torch.tensor(CubicSpline(df_puff_simulation.index*60,df_puff_simulation.x)(t))\n",
    "wind_function_y = lambda t : torch.tensor(CubicSpline(df_puff_simulation.index*60,df_puff_simulation.y)(t))\n",
    "\n",
    "# sensor_names = ['N','W','SW','S','SE','E','NE','C1','NW']\n",
    "sensor_names = ['N','E','SE','S','SW','W','NW','C1','NE']\n",
    "\n",
    "num_sensors = len(sensor_names)\n",
    "df_sensor = pd.DataFrame(sensor_points,columns = ['x','y','z'])\n",
    "df_sensor['name'] = sensor_names\n",
    "sensor_locations = df_sensor[['x','y','z']].to_numpy()\n",
    "sensor_values_fn = dict()\n",
    "for name in sensor_names:\n",
    "    sensor_values_fn[name] = lambda t, f = CubicSpline(df_puff_simulation.index*60,df_puff_simulation[name]) : torch.tensor(f(t))\n",
    "# ch4 = np.transpose(df_wind_ch4.iloc[:, 3:].to_numpy()) # shape=(N_obs, N_t)\n",
    "sensor_names = df_wind_ch4.columns[3:]"
   ]
  },
  {
   "cell_type": "markdown",
   "id": "87969177",
   "metadata": {},
   "source": [
    "#### Create observation data matrix of 100 obs across domain of 45 min\n"
   ]
  },
  {
   "cell_type": "code",
   "execution_count": 3,
   "id": "7a72c73d",
   "metadata": {},
   "outputs": [
    {
     "name": "stderr",
     "output_type": "stream",
     "text": [
      "C:\\Users\\andyh\\AppData\\Local\\Temp\\ipykernel_19884\\643698284.py:10: UserWarning: To copy construct from a tensor, it is recommended to use sourceTensor.clone().detach() or sourceTensor.clone().detach().requires_grad_(True), rather than torch.tensor(sourceTensor).\n",
      "  obs[i,j] = torch.tensor(sensor_values_fn[sensor_names[j]](obs_t[i]))\n"
     ]
    }
   ],
   "source": [
    "num_obs = 300\n",
    "tbegin = 0*60\n",
    "tend = 20*60\n",
    "# source_location[0,2] = 2\n",
    "obs_t = torch.linspace(tbegin,tend,num_obs)\n",
    "obs = torch.zeros(num_obs, num_sensors)\n",
    "obs += torch.rand(obs.shape)*0\n",
    "for i in range(num_obs):\n",
    "    for j in range(num_sensors):\n",
    "        obs[i,j] = torch.tensor(sensor_values_fn[sensor_names[j]](obs_t[i]))\n"
   ]
  },
  {
   "cell_type": "code",
   "execution_count": 4,
   "id": "080c68a2",
   "metadata": {},
   "outputs": [
    {
     "ename": "RuntimeError",
     "evalue": "mat1 and mat2 shapes cannot be multiplied (5x2700 and 300x300)",
     "output_type": "error",
     "traceback": [
      "\u001b[1;31m---------------------------------------------------------------------------\u001b[0m",
      "\u001b[1;31mRuntimeError\u001b[0m                              Traceback (most recent call last)",
      "Cell \u001b[1;32mIn[4], line 2\u001b[0m\n\u001b[0;32m      1\u001b[0m pm \u001b[38;5;241m=\u001b[39m puff_model(source_location,sensor_points, [\u001b[38;5;241m2\u001b[39m, \u001b[38;5;241m2\u001b[39m, \u001b[38;5;241m1\u001b[39m], wind_function_x, wind_function_y,[\u001b[38;5;241m1\u001b[39m,\u001b[38;5;241m1\u001b[39m],\u001b[38;5;241m1\u001b[39m)\n\u001b[1;32m----> 2\u001b[0m Q_torch, p_torch, M_torch \u001b[38;5;241m=\u001b[39m \u001b[43mpm\u001b[49m\u001b[38;5;241;43m.\u001b[39;49m\u001b[43mreturn_qp_matrices_new\u001b[49m\u001b[43m(\u001b[49m\u001b[43mobs\u001b[49m\u001b[43m,\u001b[49m\u001b[43mobs_t\u001b[49m\u001b[43m,\u001b[49m\u001b[43mspread\u001b[49m\u001b[38;5;241;43m=\u001b[39;49m\u001b[38;5;28;43;01mTrue\u001b[39;49;00m\u001b[43m)\u001b[49m\n",
      "File \u001b[1;32md:\\andyh\\Documents\\Projects\\mines\\methane_project\\basic_puff_optimization\\puff_model_v2.py:119\u001b[0m, in \u001b[0;36mpuff_model.return_qp_matrices_new\u001b[1;34m(self, obs, obs_t, spread, bias_terms, weights)\u001b[0m\n\u001b[0;32m    116\u001b[0m         temp[bias\u001b[38;5;241m*\u001b[39mnum_obs:(bias\u001b[38;5;241m+\u001b[39m\u001b[38;5;241m1\u001b[39m)\u001b[38;5;241m*\u001b[39mnum_obs] \u001b[38;5;241m=\u001b[39m \u001b[38;5;241m1\u001b[39m\n\u001b[0;32m    117\u001b[0m         Q \u001b[38;5;241m=\u001b[39m torch\u001b[38;5;241m.\u001b[39mcat([Q,torch\u001b[38;5;241m.\u001b[39mones(\u001b[38;5;28mlen\u001b[39m(Q),\u001b[38;5;241m1\u001b[39m)],dim\u001b[38;5;241m=\u001b[39m\u001b[38;5;241m1\u001b[39m)\n\u001b[1;32m--> 119\u001b[0m \u001b[38;5;28;01mreturn\u001b[39;00m \u001b[43mQ\u001b[49m\u001b[38;5;241;43m.\u001b[39;49m\u001b[43mT\u001b[49m\u001b[38;5;129;43m@weights\u001b[39;49m\u001b[38;5;129m@Q\u001b[39m, \u001b[38;5;241m-\u001b[39m\u001b[38;5;241m2\u001b[39m\u001b[38;5;241m*\u001b[39mobs\u001b[38;5;241m.\u001b[39mT\u001b[38;5;129m@Q\u001b[39m, Q\n",
      "\u001b[1;31mRuntimeError\u001b[0m: mat1 and mat2 shapes cannot be multiplied (5x2700 and 300x300)"
     ]
    }
   ],
   "source": [
    "\n",
    "pm = puff_model(source_location,sensor_points, [2, 2, 1], wind_function_x, wind_function_y,[1,1],1)\n",
    "Q_torch, p_torch, M_torch = pm.return_qp_matrices_new(obs,obs_t,spread=True)\n"
   ]
  },
  {
   "cell_type": "code",
   "execution_count": null,
   "id": "1745e493",
   "metadata": {},
   "outputs": [],
   "source": [
    "def lasso(f,num_nz,bias=False):\n",
    "    alpha = 1\n",
    "    alpha_old = 0\n",
    "    expand = True\n",
    "    num = 0\n",
    "    iter = 0\n",
    "    while num != num_nz and abs(alpha_old - alpha) > 1e-12:\n",
    "        x = f(alpha)\n",
    "        if bias == True:\n",
    "            x = x[:-1]\n",
    "        print(iter)\n",
    "        num = torch.sum((torch.abs(x)>1e-3).int())\n",
    "        print(x)\n",
    "        if num > num_nz:\n",
    "            temp = alpha\n",
    "            alpha += 10**iter if expand else abs(alpha_old - alpha)/2\n",
    "            alpha_old = temp\n",
    "        elif num < num_nz:\n",
    "            temp = alpha\n",
    "            alpha -= abs(alpha_old - alpha)/2\n",
    "            alpha_old = temp\n",
    "            # print(2,alpha)\n",
    "        iter+=1\n",
    "        if alpha < alpha_old:\n",
    "            expand = False\n",
    "    return alpha"
   ]
  },
  {
   "cell_type": "code",
   "execution_count": null,
   "id": "b5b0f222",
   "metadata": {},
   "outputs": [],
   "source": [
    "def bf_lasso(f,f_update,num_nz,bias=False):\n",
    "    x = f(0)\n",
    "    for i in range(len(x)):\n",
    "        alpha = lasso(len(x- i-1))"
   ]
  },
  {
   "cell_type": "code",
   "execution_count": null,
   "id": "93cb6296",
   "metadata": {},
   "outputs": [],
   "source": [
    "from cvxopt import matrix, solvers\n",
    "solvers.options['show_progress'] = False\n",
    "def constrained_lsq_solve(Q,p,G,h,bias=False):\n",
    "    p = p.view(-1,1)\n",
    "    Q = matrix(Q.detach().numpy().astype(np.double))\n",
    "    p = matrix(p.detach().numpy().astype(np.double))\n",
    "    G = matrix(G.detach().numpy().astype(np.double))\n",
    "    h = matrix(h.detach().numpy().astype(np.double))\n",
    "    return torch.tensor(np.array(solvers.qp(Q,p,G,h)['x'],dtype=np.float64)).float()"
   ]
  },
  {
   "cell_type": "code",
   "execution_count": null,
   "id": "59a8b21e",
   "metadata": {},
   "outputs": [],
   "source": [
    "from cvxopt import matrix, solvers\n",
    "solvers.options['show_progress'] = False\n",
    "sparse_coef = .275*torch.norm(p_torch,1)\n",
    "bias = True\n",
    "weighted = False\n",
    "# sparse_coef = 0\n",
    "p = p_torch.view(-1,1)\n",
    "Q = Q_torch\n",
    "if bias:\n",
    "    M_torch = torch.cat([M_torch,torch.ones(M_torch.shape[0],1)],dim=1)\n",
    "    if weighted:\n",
    "        w = torch.sum(M_torch,dim=1)\n",
    "        w-= w.min()\n",
    "        w /= w.max()\n",
    "        w = torch.diag(w) + 1\n",
    "        # print(w)\n",
    "        p = -2*(obs.T.reshape(1,-1)@w@M_torch).reshape(-1,1)\n",
    "        Q = M_torch.T@w@M_torch\n",
    "    else:\n",
    "        p = -2*(obs.T.reshape(1,-1)@M_torch).reshape(-1,1)\n",
    "        Q = M_torch.T@M_torch\n",
    "else:\n",
    "    if weighted:\n",
    "        w = torch.sum(M_torch,dim=1)\n",
    "        w-= w.min()\n",
    "        w /= w.max()\n",
    "        w = torch.diag(w) + 1\n",
    "        # print(w)\n",
    "        p = -2*(obs.T.reshape(1,-1)@w@M_torch).reshape(-1,1)\n",
    "        Q = M_torch.T@w@M_torch\n",
    "\n",
    "\n",
    "print(p.shape)\n",
    "#only constrain non-negativity\n",
    "G = torch.cat([-1*torch.eye(len(p))])\n",
    "h = torch.cat([torch.zeros(len(p))])\n",
    "\n",
    "def f(alpha):\n",
    "    pp = p + alpha*torch.ones(len(p),1).reshape(-1,1)\n",
    "    if bias:\n",
    "        print(pp[-1,-1] - alpha)\n",
    "        pp[-1,-1] -= alpha\n",
    "    return constrained_lsq_solve(Q,pp,G,h,bias=bias)\n",
    "alpha = lasso(f,1,bias=bias)\n",
    "print(alpha)"
   ]
  },
  {
   "cell_type": "code",
   "execution_count": null,
   "id": "5b80accf",
   "metadata": {},
   "outputs": [],
   "source": [
    "print(p.shape)"
   ]
  },
  {
   "cell_type": "markdown",
   "id": "6cfdb7f3",
   "metadata": {},
   "source": []
  },
  {
   "cell_type": "code",
   "execution_count": null,
   "id": "6c385316",
   "metadata": {},
   "outputs": [],
   "source": [
    "p_torch_n = alpha*torch.ones(p.shape) +p\n",
    "if bias:\n",
    "    p_torch_n[-1,-1] -= alpha\n",
    "print(p_torch_n.shape)\n",
    "\n",
    "x = constrained_lsq_solve(Q,p_torch_n,G,h,bias=bias)\n",
    "print(x)\n",
    "filter = x.reshape(-1) < 1e-3\n",
    "# p = p_torch_n.reshape(-1,1)\n",
    "print(p.shape)\n",
    "if bias:\n",
    "    filter[-1] = False\n",
    "print(filter)\n",
    "G = torch.cat([G,torch.eye(len(filter))[filter]])\n",
    "h = torch.cat([h.reshape(-1),torch.zeros(torch.sum(filter))])\n",
    "x = constrained_lsq_solve(Q,p,G,h,bias=bias)\n",
    "print(x)\n"
   ]
  },
  {
   "cell_type": "code",
   "execution_count": null,
   "id": "0b3ef326",
   "metadata": {},
   "outputs": [],
   "source": [
    "print(M_torch)\n"
   ]
  },
  {
   "cell_type": "code",
   "execution_count": null,
   "id": "d5f66345",
   "metadata": {},
   "outputs": [],
   "source": [
    "M = M_torch\n",
    "print(np.linalg.norm(np.array(M)@np.array(x) - obs.T.reshape(-1,1).detach().numpy(),2))\n",
    "noise = np.random.rand(x.shape[0],1)*100-50\n",
    "print(np.linalg.norm(np.array(M)@(np.array(x)+noise) - obs.T.reshape(-1,1).detach().numpy(),2))\n",
    "print(np.linalg.norm(np.array(M)@(np.ones(x.shape)) - obs.T.reshape(-1,1).detach().numpy(),2))\n"
   ]
  },
  {
   "cell_type": "code",
   "execution_count": null,
   "id": "5537c937",
   "metadata": {},
   "outputs": [],
   "source": [
    "import matplotlib.pyplot as plt\n",
    "import numpy as np\n",
    "from matplotlib.cm import get_cmap\n",
    "from matplotlib.colors import Normalize\n",
    "\n",
    "def plot_colored_arrows(wd, ws, origin_x=0, origin_y=0, color_by='index'):\n",
    "    wd = np.array(wd)\n",
    "    ws = np.array(ws)\n",
    "    n = len(wd)\n",
    "    assert wd.shape == ws.shape, \"Angle and magnitude arrays must match\"\n",
    "\n",
    "    # Compute vector components\n",
    "    theta = np.deg2rad(wd)\n",
    "    u = ws * np.cos(theta)\n",
    "    v = ws * np.sin(theta)\n",
    "\n",
    "    # Starting positions\n",
    "    x0 = np.full_like(u, origin_x)\n",
    "    y0 = np.full_like(v, origin_y)\n",
    "\n",
    "    # Values to color by (either index or magnitude)\n",
    "    if color_by == 'index':\n",
    "        color_values = np.linspace(0, 1, n)\n",
    "        label = \"Arrow Index\"\n",
    "    elif color_by == 'magnitude':\n",
    "        color_values = (ws - ws.min()) / (ws.max() - ws.min() + 1e-8)\n",
    "        label = \"Magnitude\"\n",
    "    else:\n",
    "        raise ValueError(\"color_by must be 'index' or 'magnitude'\")\n",
    "\n",
    "    cmap = get_cmap('coolwarm')  # red to blue\n",
    "    norm = Normalize(vmin=0, vmax=1)\n",
    "\n",
    "    # Create quiver plot\n",
    "    fig, ax = plt.subplots(figsize=(8, 8))\n",
    "    q = ax.quiver(x0, y0, u, v, color_values, cmap=cmap, norm=norm, angles='xy', scale_units='xy', scale=1)\n",
    "\n",
    "    # Add colorbar\n",
    "    cbar = fig.colorbar(q, ax=ax)\n",
    "    cbar.set_label(label)\n",
    "\n",
    "    ax.set_aspect('equal')\n",
    "    ax.set_title(\"Colored Arrows with Colorbar\")\n",
    "    ax.set_xlabel(\"X\")\n",
    "    ax.set_ylabel(\"Y\")\n",
    "    ax.grid(True)\n",
    "\n",
    "plot_colored_arrows(wd, ws)\n",
    "plt.xlim(-3,3)\n",
    "plt.ylim(-3,3)"
   ]
  },
  {
   "cell_type": "code",
   "execution_count": null,
   "id": "c7212081",
   "metadata": {},
   "outputs": [],
   "source": [
    "fig,ax = plt.subplots()\n",
    "ax.scatter(source_location[:,0],source_location[:,1],color='red')\n",
    "ax.scatter(sensor_points[:,0],sensor_points[:,1],color='blue')\n",
    "\n",
    "labels = df_sensor['name']\n",
    "for i, label in enumerate(labels):\n",
    "    plt.annotate(label, (df_sensor.x[i], df_sensor.y[i]), textcoords=\"offset points\", xytext=(0,5), ha='center')\n",
    "for i in range(len(source_location)):\n",
    "    plt.annotate(str(i+1), (source_location[i,0],source_location[i,1]), textcoords=\"offset points\", xytext=(0,5), ha='center')"
   ]
  },
  {
   "cell_type": "code",
   "execution_count": null,
   "id": "a3ff47dc",
   "metadata": {},
   "outputs": [],
   "source": [
    "print(sensor_values_fn['NW'](16))"
   ]
  },
  {
   "cell_type": "code",
   "execution_count": null,
   "id": "ab9f2e5e",
   "metadata": {},
   "outputs": [],
   "source": [
    "sensor_values_fn = dict()\n",
    "for name in sensor_names:\n",
    "    sensor_values_fn[name] = interp1d(df_puff_simulation.index*60,df_puff_simulation[name])\n",
    "\n",
    "sensor_values_fn_1 = dict()\n",
    "for name in sensor_names:\n",
    "    sensor_values_fn_1[name] = lambda t, x = sensor_values_fn[name] : torch.tensor(x(t))\n",
    "\n",
    "\n",
    "\n",
    "print(sensor_values_fn['C1'](24*60))\n",
    "print(sensor_values_fn_1['C1'](24*60))\n",
    "print(M_torch)"
   ]
  },
  {
   "cell_type": "code",
   "execution_count": null,
   "id": "8e9140bd",
   "metadata": {},
   "outputs": [],
   "source": [
    "fig, ax  = plt.subplots(3,3)\n",
    "i=0\n",
    "for i in range(num_sensors):\n",
    "    ax[i//3,i%3].set_title(sensor_names[i])\n",
    "    tt = obs_t\n",
    "    ax[i//3,i%3].plot(obs_t,(M_torch[num_obs*i:(num_obs*(i+1)),:]@x).view(-1) ,color='red',label='predicted')\n",
    "    ax[i//3,i%3].plot(obs_t,sensor_values_fn[sensor_names[i]](tt),color='blue',label='true')\n",
    "    plt.legend()\n",
    "    "
   ]
  }
 ],
 "metadata": {
  "kernelspec": {
   "display_name": "Python 3",
   "language": "python",
   "name": "python3"
  },
  "language_info": {
   "codemirror_mode": {
    "name": "ipython",
    "version": 3
   },
   "file_extension": ".py",
   "mimetype": "text/x-python",
   "name": "python",
   "nbconvert_exporter": "python",
   "pygments_lexer": "ipython3",
   "version": "3.11.4"
  }
 },
 "nbformat": 4,
 "nbformat_minor": 5
}
